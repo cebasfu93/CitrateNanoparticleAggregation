{
 "cells": [
  {
   "cell_type": "code",
   "execution_count": 1,
   "metadata": {},
   "outputs": [],
   "source": [
    "XTC = \"CIT-53_PRO1_FIX.xtc\"\n",
    "TPR = \"CIT-53_PRO1.tpr\"\n",
    "NAME = XTC[:-8]\n",
    "\n",
    "import numpy as np\n",
    "from scipy.spatial.distance import cdist\n",
    "from scipy.optimize import curve_fit\n",
    "import matplotlib.pyplot as plt\n",
    "from MDAnalysis import *\n",
    "Z=22\n",
    "DPI=300"
   ]
  },
  {
   "cell_type": "code",
   "execution_count": 2,
   "metadata": {},
   "outputs": [],
   "source": [
    "U = Universe(TPR, XTC)\n",
    "DT = U.trajectory[0].dt"
   ]
  },
  {
   "cell_type": "code",
   "execution_count": 3,
   "metadata": {},
   "outputs": [],
   "source": [
    "sel = {\n",
    "\"CIT\"       : U.select_atoms(\"resname CIT\"),\n",
    "}\n",
    "\n",
    "props_mol_area = {\n",
    "'ref'       : \"CIT\",\n",
    "'start_ps'  : 0,\n",
    "'stop_ps'   : 100000, #100000,\n",
    "'rotations' : 100, #number of times to rotate the molecule\n",
    "'samples'   : 1000, #points to calculate the area from\n",
    "}"
   ]
  },
  {
   "cell_type": "code",
   "execution_count": 4,
   "metadata": {},
   "outputs": [],
   "source": [
    "radii = {\n",
    "\"C\"     : 1.7, #radii in A\n",
    "\"H\"     : 1.2,\n",
    "\"O\"     : 1.52,\n",
    "}"
   ]
  },
  {
   "cell_type": "code",
   "execution_count": 5,
   "metadata": {},
   "outputs": [],
   "source": [
    "def rotation_matrix(abc):\n",
    "    a = abc[0]\n",
    "    b = abc[1]\n",
    "    c = abc[2]\n",
    "    #return a matrix that rotates a along X, b along Y, and c along Z (in that order)\n",
    "    Rx = [[1,0,0],[0,np.cos(a), -np.sin(a)],[0, np.sin(a), np.cos(a)]]\n",
    "    Ry = [[np.cos(b), 0, np.sin(b)],[0,1,0],[-np.sin(b), 0, np.cos(b)]]\n",
    "    Rz = [[np.cos(c), -np.sin(c),0],[np.sin(c), np.cos(c),0],[0,0,1]]\n",
    "    Rxyz = np.dot(Rx, np.dot(Ry, Rz))\n",
    "    return Rxyz\n",
    "\n",
    "def center(xyz):\n",
    "    xyz = xyz - np.mean(xyz, axis=0)\n",
    "    return xyz\n",
    "\n",
    "def probability_moments(values, frequencies):\n",
    "    dx = values[1]-values[0]\n",
    "    expected = np.sum(np.multiply(frequencies*dx, values))\n",
    "    variance = np.sum(np.multiply(frequencies*dx, values**2)) - expected**2\n",
    "    variance = np.sqrt(variance)\n",
    "    return expected, variance"
   ]
  },
  {
   "cell_type": "code",
   "execution_count": 6,
   "metadata": {},
   "outputs": [
    {
     "name": "stdout",
     "output_type": "stream",
     "text": [
      "0.0\n",
      "10000.0\n",
      "20000.0\n",
      "30000.0\n",
      "40000.0\n",
      "50000.0\n",
      "60000.0\n",
      "70000.0\n",
      "80000.0\n",
      "90000.0\n",
      "100000.0\n"
     ]
    }
   ],
   "source": [
    "def calc_area(props):\n",
    "    np.random.seed(666)\n",
    "    areas = []\n",
    "    for ts in U.trajectory:\n",
    "        if ts.time >= props['start_ps'] and ts.time <= props['stop_ps']:\n",
    "            if ts.time%10000 == 0:\n",
    "                print(ts.time)\n",
    "            xyz_ref_or = center(sel[props['ref']].positions)\n",
    "            for i in range(props['rotations']):\n",
    "                angles = np.random.rand(3)*2*np.pi\n",
    "                RT = rotation_matrix(angles)\n",
    "                xyz_ref = np.dot(RT, xyz_ref_or.T)\n",
    "                \n",
    "                xmin, xmax = np.min(xyz_ref[:,0])-2, np.max(xyz_ref[:,0])+2\n",
    "                ymin, ymax = np.min(xyz_ref[:,1])-2, np.max(xyz_ref[:,1])+2\n",
    "                vdw = []\n",
    "                for j in range(len(xyz_ref)):\n",
    "                    element = sel[props['ref']].atoms[j].name[0]\n",
    "                    vdw.append(radii[element])\n",
    "\n",
    "                probes = np.random.rand(props['samples'], 2)\n",
    "                probes[:,0] = (xmax - xmin) * probes[:,0] + xmin\n",
    "                probes[:,1] = (ymax - ymin) * probes[:,1] + ymin\n",
    "\n",
    "                dists = cdist(probes, xyz_ref[:,:2])\n",
    "                inside = np.sum(np.any(dists<=vdw, axis=1))\n",
    "                frac = inside/props['samples']\n",
    "                area = frac*(xmax-xmin)*(ymax-ymin)\n",
    "                areas.append(area)\n",
    "    return areas\n",
    "            \n",
    "areas = calc_area(props_mol_area)"
   ]
  },
  {
   "cell_type": "code",
   "execution_count": 18,
   "metadata": {
    "scrolled": false
   },
   "outputs": [
    {
     "name": "stdout",
     "output_type": "stream",
     "text": [
      "Area of maximum probability: 0.157 nm2\n",
      "Expected area: 0.151 +/- 0.016 nm2\n"
     ]
    },
    {
     "data": {
      "image/png": "[encoded data removed]",
      "text/plain": [
       "<Figure size 432x216 with 1 Axes>"
      ]
     },
     "metadata": {
      "needs_background": "light"
     },
     "output_type": "display_data"
    }
   ],
   "source": [
    "freq, bins = np.histogram(np.array(areas)/100, density=True, bins=180)\n",
    "bins = (bins[1:]+bins[:-1])/2\n",
    "moments = probability_moments(bins, freq)\n",
    "max_area = bins[np.argmax(freq)]\n",
    "print(\"Area of maximum probability: {:.3f} nm2\".format(max_area))\n",
    "print(\"Expected area: {:.3f} +/- {:.3f} nm2\".format(*moments))\n",
    "\n",
    "fig = plt.figure(figsize=(6,3))\n",
    "ax = plt.axes()\n",
    "ax.tick_params(labelsize=Z-4)\n",
    "ax.set_xlabel(r\"Projected area ($nm^2$)\", fontsize=Z)\n",
    "ax.set_ylabel(\"Probability density\", fontsize=Z)\n",
    "ax.grid()\n",
    "ax.set_xlim(0.08,0.2)\n",
    "ax.set_ylim(0, 35)\n",
    "ax.plot(bins, freq, color='r', lw=3)\n",
    "#ax.axvline(moments[0], ymin=0, ymax=0.68, lw=2, color='k')\n",
    "#ax.scatter([moments[0]], freq[np.argmin(np.abs(bins-moments[0]))], zorder=10, edgecolor='k', facecolor='b', linewidth=2, s=80, label=\"Expected value\")\n",
    "ax.scatter([max_area], freq[np.argmin(np.abs(bins-max_area))], zorder=10, edgecolor='k', facecolor='b', linewidth=2, s=80, label=\"Maximum\\nprobability\")\n",
    "ax.axvline(max_area, ymin=0, ymax=0.9, lw=2, color='k')\n",
    "lgd = ax.legend(fontsize=Z-4, loc='upper left')\n",
    "plt.savefig(\"cit_area.png\", format='png', dpi=DPI, bbox_extra_artists=(lgd,), bbox_inches='tight')\n",
    "plt.show()"
   ]
  },
  {
   "cell_type": "code",
   "execution_count": 14,
   "metadata": {},
   "outputs": [
    {
     "name": "stdout",
     "output_type": "stream",
     "text": [
      "0.2246028704002071 0.2647105258288155\n"
     ]
    }
   ],
   "source": [
    "coverage1, coverage2 = 28*max_area/19.6, 33*max_area/19.6\n",
    "print(coverage1, coverage2)"
   ]
  },
  {
   "cell_type": "code",
   "execution_count": 13,
   "metadata": {},
   "outputs": [
    {
     "name": "stdout",
     "output_type": "stream",
     "text": [
      "19.634954084936208\n"
     ]
    }
   ],
   "source": [
    "print(4*np.pi*1.25**2)"
   ]
  },
  {
   "cell_type": "code",
   "execution_count": null,
   "metadata": {},
   "outputs": [],
   "source": []
  }
 ],
 "metadata": {
  "kernelspec": {
   "display_name": "Python 3",
   "language": "python",
   "name": "python3"
  },
  "language_info": {
   "codemirror_mode": {
    "name": "ipython",
    "version": 3
   },
   "file_extension": ".py",
   "mimetype": "text/x-python",
   "name": "python",
   "nbconvert_exporter": "python",
   "pygments_lexer": "ipython3",
   "version": "3.8.5"
  }
 },
 "nbformat": 4,
 "nbformat_minor": 2
}
