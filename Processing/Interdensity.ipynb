{
 "cells": [
  {
   "cell_type": "code",
   "execution_count": 1,
   "metadata": {},
   "outputs": [],
   "source": [
    "import numpy as np\n",
    "import matplotlib.pyplot as plt\n",
    "import math\n",
    "import scipy.constants as sci\n",
    "plt.rcParams[\"font.family\"] = \"Arial\"\n",
    "DPI = 220\n",
    "Z = 18\n",
    "import matplotlib as mpl\n",
    "from matplotlib import cm\n",
    "mpl.rcParams['axes.linewidth'] = 1.4\n",
    "import os\n",
    "import imageio"
   ]
  },
  {
   "cell_type": "code",
   "execution_count": 2,
   "metadata": {},
   "outputs": [],
   "source": [
    "def read_interdensity(fname):\n",
    "    f = open(fname, \"r\")\n",
    "    fl = f.readlines()\n",
    "    f.close()\n",
    "    \n",
    "    ids = []\n",
    "    data = []\n",
    "    tajada = []\n",
    "    for line in fl:\n",
    "        if \"#\" not in line:\n",
    "            if \"$\" in line and tajada != []:\n",
    "                data.append(np.array(tajada, dtype='float'))\n",
    "                tajada = []\n",
    "            elif \"$\" not in line:\n",
    "                tajada.append(np.array(line.split(), dtype='float'))\n",
    "            if \"$\" in line:\n",
    "                ids.append(float(line.split()[3]))\n",
    "    data.append(np.array(tajada, dtype='float'))\n",
    "    data = np.array(data)\n",
    "    data = data/0.001 #for a grid size of 1A, 0.001 converts charge into charge density\n",
    "    return data, ids        "
   ]
  },
  {
   "cell_type": "code",
   "execution_count": 3,
   "metadata": {},
   "outputs": [],
   "source": [
    "nano_labels = [\"N40\"]\n",
    "ion_labels = [\"I10\", \"I20\"]\n",
    "ion_values = [33, 66]\n",
    "fini=23\n",
    "ffin=23\n",
    "frames = np.linspace(fini, ffin, ffin-fini+1, dtype='int')"
   ]
  },
  {
   "cell_type": "code",
   "execution_count": null,
   "metadata": {},
   "outputs": [
    {
     "name": "stdout",
     "output_type": "stream",
     "text": [
      "N40/I10/F23\n",
      "N40/I20/F23\n"
     ]
    }
   ],
   "source": [
    "cmap='seismic'\n",
    "for nano_label in nano_labels:\n",
    "    #os.mkdir(\"T2/INTERDENSITY/{}\".format(nano_label))\n",
    "    for ion_label in ion_labels:\n",
    "        #os.mkdir(\"T2/INTERDENSITY/{}/{}\".format(nano_label, ion_label))\n",
    "        for frame in frames:\n",
    "            print(\"{}/{}/F{}\".format(nano_label, ion_label, frame))\n",
    "            #os.mkdir(\"T2/INTERDENSITY/{}/{}/Frame{}\".format(nano_label, ion_label, frame))\n",
    "            data, ids = read_interdensity(\"T2/INTERDENSITY/T2-{}-{}_L_MD{}_interdensity.sfu\".format(nano_label, ion_label, frame))\n",
    "            n_slices = len(data)\n",
    "            n_res = len(data[0])\n",
    "            \n",
    "            images = []\n",
    "            for i in range(n_slices):\n",
    "                fname = \"T2/INTERDENSITY/{}/{}/Frame{}/img{}.png\".format(nano_label, ion_label, frame, i)\n",
    "                fig = plt.figure(figsize=(6,6))\n",
    "                ax = plt.axes()\n",
    "                ax.tick_params(labelsize=Z)\n",
    "                ax.set_xlabel(\"CV2 (nm)\", fontsize=Z)\n",
    "                ax.set_ylabel(\"CV3 (nm)\", fontsize=Z)\n",
    "                ax.set_title(r\"S = \" + r\"$\\bf{\" + \"{:>6.2f}\".format(ids[i]) + r\"}$ nm\", fontsize=Z-2)\n",
    "                ax.set_xticks(np.linspace(0, n_res-1, 5))\n",
    "                ax.set_xticklabels([-1.50, -0.75, 0.00, 0.75, 1.50])\n",
    "                ax.set_yticks(np.linspace(0, n_res-1, 5))\n",
    "                ax.set_yticklabels([-1.50, -0.75, 0.00, 0.75, 1.50])\n",
    "                cax = ax.imshow(data[i], cmap=cmap, interpolation='bilinear', vmin=-1000, vmax=1000)\n",
    "\n",
    "                a = plt.axes([0.95, 0.125, 0.05, 0.76])\n",
    "                cbar = fig.colorbar(cax, ax=a, cax=a, ticks=[-1000, -750, -500, -250, 0, 250, 500, 750, 1000])\n",
    "                cbar.ax.tick_params(labelsize=Z)\n",
    "                cbar.ax.set_ylabel(r\"Surface charge density ($e$ $nm^{-2}$)\", fontsize=Z)\n",
    "                plt.savefig(fname, format='png', dpi=DPI, bbox_extra_artists=(a,), bbox_inches='tight')\n",
    "                plt.close()\n",
    "                images.append(imageio.imread(fname)) \n",
    "            imageio.mimsave('T2/INTERDENSITY/{}/{}/Frame{}.gif'.format(nano_label, ion_label, frame), images)"
   ]
  },
  {
   "cell_type": "code",
   "execution_count": null,
   "metadata": {},
   "outputs": [],
   "source": []
  }
 ],
 "metadata": {
  "kernelspec": {
   "display_name": "Python 3",
   "language": "python",
   "name": "python3"
  },
  "language_info": {
   "codemirror_mode": {
    "name": "ipython",
    "version": 3
   },
   "file_extension": ".py",
   "mimetype": "text/x-python",
   "name": "python",
   "nbconvert_exporter": "python",
   "pygments_lexer": "ipython3",
   "version": "3.8.5"
  }
 },
 "nbformat": 4,
 "nbformat_minor": 2
}
